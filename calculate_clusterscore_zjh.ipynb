{
 "cells": [
  {
   "cell_type": "code",
   "execution_count": 94,
   "metadata": {},
   "outputs": [],
   "source": [
    "import pandas as pd\n",
    "import csv\n",
    "import os\n",
    "import statistics\n",
    "from tqdm import tqdm"
   ]
  },
  {
   "cell_type": "code",
   "execution_count": 95,
   "metadata": {},
   "outputs": [],
   "source": [
    "def check_max_significance(lst):\n",
    "    max_value = max(lst)\n",
    "    sorted_values = sorted(lst, reverse=True)\n",
    "    second_largest_value = sorted_values[1]\n",
    "\n",
    "    if max_value > 1.1 * second_largest_value and sum(counts) > 2:\n",
    "        return lst.index(max_value) + 1\n",
    "    else:\n",
    "        return 404\n",
    "\n",
    "def cal_score(gene):\n",
    "    score = rankings[gene].max() / rankings[gene][i]\n",
    "    return score\n",
    "\n",
    "def cal_mean_score(cluster):\n",
    "    cluster_score = []\n",
    "    for key in cluster:\n",
    "        cluster_score.append(gene_scores[key])\n",
    "    if len(cluster_score) > 1:\n",
    "        mean_score = sum(cluster_score) / len(cluster_score)\n",
    "        # score = min(cluster_score) * 0.4 + mean_score * 0.6\n",
    "        score = mean_score * 0.7 + min(cluster_score) * 0.3\n",
    "    else:\n",
    "        score = cluster_score[0]\n",
    "    return score\n",
    "\n",
    "\n",
    "def get_result(result):\n",
    "    mapping = {1: 'B_cells', 2: 'T_cells', 3: 'NK_cells',\n",
    "               4:'Neutrophils', 5: 'Macrophages ', 6: 'Fibroblasts ', \n",
    "               7: 'Endothelial_cells'}\n",
    "    return mapping.get(result, 'Undefined')"
   ]
  },
  {
   "cell_type": "code",
   "execution_count": 96,
   "metadata": {},
   "outputs": [],
   "source": [
    "##chicken\n",
    "B_cells = ['Dennd5b','Pax5']\n",
    "T_cells = ['Cd28']\n",
    "NK_cells = ['Il2rb','Cd7']\n",
    "Neutrophils = ['G0s2']\n",
    "Macrophages = ['Il1r2']\n",
    "Fibroblasts = ['Col1a1','Apoa1']\n",
    "#Epithelial_cells = ['Sftpc']\n",
    "Endothelial_cells = ['Npr3','Vwf']"
   ]
  },
  {
   "cell_type": "code",
   "execution_count": 97,
   "metadata": {},
   "outputs": [],
   "source": [
    "column_names = ['Dennd5b', 'Pax5', 'Cd28', 'Il2rb',\n",
    "                'Cd7', 'Il1r2', 'Col1a1', 'Apoa1', 'G0s2',\n",
    "                'Npr3', 'Vwf']"
   ]
  },
  {
   "cell_type": "code",
   "execution_count": 98,
   "metadata": {},
   "outputs": [],
   "source": [
    "cluster_lst = [B_cells, T_cells, NK_cells, Macrophages, Neutrophils,Fibroblasts, Endothelial_cells]"
   ]
  },
  {
   "cell_type": "code",
   "execution_count": 63,
   "metadata": {},
   "outputs": [
    {
     "name": "stdout",
     "output_type": "stream",
     "text": [
      "['CK-I-20X.csv', 'CK-I-63X.csv', 'CK-M-20X.csv', 'CK-M-63X.csv']\n"
     ]
    },
    {
     "name": "stderr",
     "output_type": "stream",
     "text": [
      "Processing files: 100%|██████████| 75886/75886 [01:18<00:00, 970.31it/s] \n"
     ]
    },
    {
     "name": "stdout",
     "output_type": "stream",
     "text": [
      "cluster\n",
      "Undefined            26779\n",
      "T_cells              21696\n",
      "Fibroblasts          13851\n",
      "NK_cells              6797\n",
      "B_cells               4598\n",
      "Macrophages           1015\n",
      "Epithelial_cells      1001\n",
      "Endothelial_cells      149\n",
      "Name: count, dtype: int64\n"
     ]
    },
    {
     "name": "stderr",
     "output_type": "stream",
     "text": [
      "Processing files: 100%|██████████| 10293/10293 [00:04<00:00, 2331.09it/s]\n"
     ]
    },
    {
     "name": "stdout",
     "output_type": "stream",
     "text": [
      "cluster\n",
      "T_cells              4322\n",
      "Undefined            3662\n",
      "Fibroblasts           831\n",
      "Epithelial_cells      486\n",
      "B_cells               453\n",
      "NK_cells              381\n",
      "Macrophages           126\n",
      "Endothelial_cells      32\n",
      "Name: count, dtype: int64\n"
     ]
    },
    {
     "name": "stderr",
     "output_type": "stream",
     "text": [
      "Processing files: 100%|██████████| 27400/27400 [00:15<00:00, 1737.18it/s]\n"
     ]
    },
    {
     "name": "stdout",
     "output_type": "stream",
     "text": [
      "cluster\n",
      "Fibroblasts          6967\n",
      "Undefined            6535\n",
      "NK_cells             6504\n",
      "T_cells              3275\n",
      "B_cells              2465\n",
      "Macrophages           745\n",
      "Epithelial_cells      512\n",
      "Endothelial_cells     397\n",
      "Name: count, dtype: int64\n"
     ]
    },
    {
     "name": "stderr",
     "output_type": "stream",
     "text": [
      "Processing files: 100%|██████████| 6735/6735 [00:02<00:00, 2490.69it/s]\n"
     ]
    },
    {
     "name": "stdout",
     "output_type": "stream",
     "text": [
      "cluster\n",
      "Undefined            2028\n",
      "T_cells              1568\n",
      "Fibroblasts          1147\n",
      "B_cells               725\n",
      "Epithelial_cells      527\n",
      "Macrophages           327\n",
      "NK_cells              320\n",
      "Endothelial_cells      93\n",
      "Name: count, dtype: int64\n"
     ]
    }
   ],
   "source": [
    "sample = 'CK'\n",
    "samples = [file for file in os.listdir('./matrix') if file.startswith(sample)]\n",
    "print(samples)\n",
    "\n",
    "\n",
    "for file in samples:\n",
    "    filename = f'./matrix/{file}'\n",
    "    df = pd.read_csv(filename, index_col='cell')\n",
    "    rankings = df.rank(method='min', ascending=False)\n",
    "    with open('matrix-cluster-tmp.csv', mode='w', newline='') as output_file:\n",
    "        writer = csv.writer(output_file)\n",
    "        writer.writerow(['cluster'])  # 写出表头\n",
    "        for i in tqdm(range(len(rankings)), desc='Processing files'):\n",
    "            gene_scores = {}\n",
    "            for gene in column_names:\n",
    "                gene_score = cal_score(gene)\n",
    "                gene_scores[gene] = gene_score\n",
    "            cluster_scores = []\n",
    "            for cluster in cluster_lst:\n",
    "                cluster_score = cal_mean_score(cluster)\n",
    "                cluster_scores.append(cluster_score)\n",
    "\n",
    "            counts = df.iloc[i, :]\n",
    "            result = check_max_significance(cluster_scores)\n",
    "            output = get_result(result)\n",
    "            row = [output]\n",
    "            writer.writerow(row)\n",
    "\n",
    "    df1 = pd.read_csv(filename, index_col=None)\n",
    "    df2 = pd.read_csv('matrix-cluster-tmp.csv', index_col=None)\n",
    "    merged_df = pd.concat([df1, df2], axis=1)\n",
    "\n",
    "    #os.makedirs(f'./matrix_cluster/{sample}', exist_ok=True)\n",
    "    id = file.split('.')[0]\n",
    "    merged_df.to_csv(f'./matrix_cluster/{id}-cluster.csv', index=None)\n",
    "    cluster_counts = merged_df['cluster'].value_counts()\n",
    "    print(cluster_counts)"
   ]
  },
  {
   "cell_type": "code",
   "execution_count": 99,
   "metadata": {},
   "outputs": [],
   "source": [
    "from tqdm import tqdm"
   ]
  },
  {
   "cell_type": "code",
   "execution_count": 107,
   "metadata": {},
   "outputs": [
    {
     "ename": "FileNotFoundError",
     "evalue": "[WinError 3] 系统找不到指定的路径。: './matrix/CK'",
     "output_type": "error",
     "traceback": [
      "\u001b[1;31m---------------------------------------------------------------------------\u001b[0m",
      "\u001b[1;31mFileNotFoundError\u001b[0m                         Traceback (most recent call last)",
      "Cell \u001b[1;32mIn[107], line 2\u001b[0m\n\u001b[0;32m      1\u001b[0m sample \u001b[38;5;241m=\u001b[39m \u001b[38;5;124m'\u001b[39m\u001b[38;5;124mCK\u001b[39m\u001b[38;5;124m'\u001b[39m\n\u001b[1;32m----> 2\u001b[0m samples \u001b[38;5;241m=\u001b[39m \u001b[43mos\u001b[49m\u001b[38;5;241;43m.\u001b[39;49m\u001b[43mlistdir\u001b[49m\u001b[43m(\u001b[49m\u001b[38;5;124;43mf\u001b[39;49m\u001b[38;5;124;43m'\u001b[39;49m\u001b[38;5;124;43m./matrix/\u001b[39;49m\u001b[38;5;132;43;01m{\u001b[39;49;00m\u001b[43msample\u001b[49m\u001b[38;5;132;43;01m}\u001b[39;49;00m\u001b[38;5;124;43m'\u001b[39;49m\u001b[43m)\u001b[49m\n\u001b[0;32m      3\u001b[0m output \u001b[38;5;241m=\u001b[39m \u001b[38;5;124m'\u001b[39m\u001b[38;5;124mEpithelial_cells\u001b[39m\u001b[38;5;124m'\u001b[39m\n\u001b[0;32m      4\u001b[0m os\u001b[38;5;241m.\u001b[39mmakedirs(output, exist_ok\u001b[38;5;241m=\u001b[39m\u001b[38;5;28;01mTrue\u001b[39;00m)\n",
      "\u001b[1;31mFileNotFoundError\u001b[0m: [WinError 3] 系统找不到指定的路径。: './matrix/CK'"
     ]
    }
   ],
   "source": [
    "sample = 'CK'\n",
    "samples = os.listdir(f'./matrix/{sample}')\n",
    "output = 'Epithelial_cells'\n",
    "os.makedirs(output, exist_ok=True)\n",
    "os.makedirs('Others', exist_ok=True)\n",
    "\n",
    "for file in samples:\n",
    "    print(file)\n",
    "    filename = f'./matrix/{sample}/{file}'\n",
    "    df = pd.read_csv(filename)\n",
    "    filtered_df = df[df['Sftpc'] > 4]\n",
    "    filtered_df['cluster'] = 'Epithelial_cells'\n",
    "    cluster_counts = filtered_df['cluster'].value_counts()\n",
    "    print(cluster_counts)\n",
    "    filtered_df.to_csv(f'./{output}/{file}', index=False)\n",
    "    Others = df[df['Sftpc'] < 5]\n",
    "    Others.to_csv(f'./Others/{file}', index=False)"
   ]
  },
  {
   "cell_type": "code",
   "execution_count": 103,
   "metadata": {},
   "outputs": [
    {
     "ename": "FileNotFoundError",
     "evalue": "[WinError 3] 系统找不到指定的路径。: 'e:\\\\manuscript\\\\单细胞流感跨物种\\\\细胞类型的定义\\\\20240611\\\\matrix\\\\CK'",
     "output_type": "error",
     "traceback": [
      "\u001b[1;31m---------------------------------------------------------------------------\u001b[0m",
      "\u001b[1;31mFileNotFoundError\u001b[0m                         Traceback (most recent call last)",
      "Cell \u001b[1;32mIn[103], line 5\u001b[0m\n\u001b[0;32m      3\u001b[0m sample \u001b[38;5;241m=\u001b[39m \u001b[38;5;124m'\u001b[39m\u001b[38;5;124mCK\u001b[39m\u001b[38;5;124m'\u001b[39m\n\u001b[0;32m      4\u001b[0m absolute_path \u001b[38;5;241m=\u001b[39m os\u001b[38;5;241m.\u001b[39mpath\u001b[38;5;241m.\u001b[39mabspath(\u001b[38;5;124mf\u001b[39m\u001b[38;5;124m'\u001b[39m\u001b[38;5;124m./matrix/\u001b[39m\u001b[38;5;132;01m{\u001b[39;00msample\u001b[38;5;132;01m}\u001b[39;00m\u001b[38;5;124m'\u001b[39m)\n\u001b[1;32m----> 5\u001b[0m samples \u001b[38;5;241m=\u001b[39m \u001b[43mos\u001b[49m\u001b[38;5;241;43m.\u001b[39;49m\u001b[43mlistdir\u001b[49m\u001b[43m(\u001b[49m\u001b[43mabsolute_path\u001b[49m\u001b[43m)\u001b[49m\n\u001b[0;32m      6\u001b[0m output \u001b[38;5;241m=\u001b[39m \u001b[38;5;124m'\u001b[39m\u001b[38;5;124mEpithelial_cells\u001b[39m\u001b[38;5;124m'\u001b[39m\n\u001b[0;32m      7\u001b[0m os\u001b[38;5;241m.\u001b[39mmakedirs(output, exist_ok\u001b[38;5;241m=\u001b[39m\u001b[38;5;28;01mTrue\u001b[39;00m)\n",
      "\u001b[1;31mFileNotFoundError\u001b[0m: [WinError 3] 系统找不到指定的路径。: 'e:\\\\manuscript\\\\单细胞流感跨物种\\\\细胞类型的定义\\\\20240611\\\\matrix\\\\CK'"
     ]
    }
   ],
   "source": [
    "import os\n",
    "\n",
    "sample = 'CK'\n",
    "absolute_path = os.path.abspath(f'./matrix/{sample}')\n",
    "samples = os.listdir(absolute_path)\n",
    "output = 'Epithelial_cells'\n",
    "os.makedirs(output, exist_ok=True)\n"
   ]
  },
  {
   "cell_type": "code",
   "execution_count": 41,
   "metadata": {},
   "outputs": [
    {
     "ename": "FileNotFoundError",
     "evalue": "[WinError 3] 系统找不到指定的路径。: './Others/CK'",
     "output_type": "error",
     "traceback": [
      "\u001b[1;31m---------------------------------------------------------------------------\u001b[0m",
      "\u001b[1;31mFileNotFoundError\u001b[0m                         Traceback (most recent call last)",
      "Cell \u001b[1;32mIn[41], line 2\u001b[0m\n\u001b[0;32m      1\u001b[0m sample \u001b[38;5;241m=\u001b[39m \u001b[38;5;124m'\u001b[39m\u001b[38;5;124mCK\u001b[39m\u001b[38;5;124m'\u001b[39m\n\u001b[1;32m----> 2\u001b[0m samples \u001b[38;5;241m=\u001b[39m \u001b[43mos\u001b[49m\u001b[38;5;241;43m.\u001b[39;49m\u001b[43mlistdir\u001b[49m\u001b[43m(\u001b[49m\u001b[38;5;124;43mf\u001b[39;49m\u001b[38;5;124;43m'\u001b[39;49m\u001b[38;5;124;43m./Others/\u001b[39;49m\u001b[38;5;132;43;01m{\u001b[39;49;00m\u001b[43msample\u001b[49m\u001b[38;5;132;43;01m}\u001b[39;49;00m\u001b[38;5;124;43m'\u001b[39;49m\u001b[43m)\u001b[49m\n\u001b[0;32m      4\u001b[0m \u001b[38;5;28;01mfor\u001b[39;00m file \u001b[38;5;129;01min\u001b[39;00m samples:\n\u001b[0;32m      5\u001b[0m     filename \u001b[38;5;241m=\u001b[39m \u001b[38;5;124mf\u001b[39m\u001b[38;5;124m'\u001b[39m\u001b[38;5;124m./Others/\u001b[39m\u001b[38;5;132;01m{\u001b[39;00msample\u001b[38;5;132;01m}\u001b[39;00m\u001b[38;5;124m/\u001b[39m\u001b[38;5;132;01m{\u001b[39;00mfile\u001b[38;5;132;01m}\u001b[39;00m\u001b[38;5;124m'\u001b[39m\n",
      "\u001b[1;31mFileNotFoundError\u001b[0m: [WinError 3] 系统找不到指定的路径。: './Others/CK'"
     ]
    }
   ],
   "source": [
    "sample = 'CK'\n",
    "samples = os.listdir(f'./Others/{sample}')\n",
    "\n",
    "for file in samples:\n",
    "    filename = f'./Others/{sample}/{file}'\n",
    "    df = pd.read_csv(filename, index_col='cell')\n",
    "    rankings = df.rank(method='min', ascending=False)\n",
    "    with open('matrix-cluster-tmp.csv', mode='w', newline='') as output_file:\n",
    "        writer = csv.writer(output_file)\n",
    "        writer.writerow(['cluster'])  # 写出表头\n",
    "        for i in tqdm(range(len(rankings)), desc='Processing files'):\n",
    "            gene_scores = {}\n",
    "            for gene in column_names:\n",
    "                gene_score = cal_score(gene)\n",
    "                gene_scores[gene] = gene_score\n",
    "            cluster_scores = []\n",
    "            for cluster in cluster_lst:\n",
    "                cluster_score = cal_mean_score(cluster)\n",
    "                cluster_scores.append(cluster_score)\n",
    "\n",
    "            counts = df.iloc[i, :]\n",
    "            result = check_max_significance(cluster_scores)\n",
    "            output = get_result(result)\n",
    "            row = [output]\n",
    "            writer.writerow(row)\n",
    "\n",
    "    df1 = pd.read_csv(filename, index_col=None)\n",
    "    df2 = pd.read_csv('matrix-cluster-tmp.csv', index_col=None)\n",
    "    merged_df = pd.concat([df1, df2], axis=1)\n",
    "\n",
    "    os.makedirs(f'matrix_cluster/{sample}', exist_ok=True)\n",
    "    id = file.split('.')[0]\n",
    "    merged_df.to_csv(f'matrix_cluster/{sample}/{id}-cluster.csv', index=None)\n",
    "    cluster_counts = merged_df['cluster'].value_counts()\n",
    "    print(cluster_counts)"
   ]
  },
  {
   "cell_type": "code",
   "execution_count": 40,
   "metadata": {},
   "outputs": [
    {
     "data": {
      "text/plain": [
       "'e:\\\\manuscript\\\\单细胞流感跨物种\\\\细胞类型的定义\\\\20240611'"
      ]
     },
     "execution_count": 40,
     "metadata": {},
     "output_type": "execute_result"
    }
   ],
   "source": [
    "pwd"
   ]
  },
  {
   "cell_type": "code",
   "execution_count": 53,
   "metadata": {},
   "outputs": [
    {
     "name": "stdout",
     "output_type": "stream",
     "text": [
      "CK-I-20X.csv\n",
      "cluster\n",
      "Undefined            37419\n",
      "T_cells              18036\n",
      "NK_cells              4528\n",
      "B_cells               1981\n",
      "Macrophages           1870\n",
      "Fibroblasts           1808\n",
      "Endothelial_cells     1240\n",
      "Epithelial_cells       929\n",
      "Neutrophils             91\n",
      "Name: count, dtype: int64\n",
      "CK-I-63X.csv\n",
      "cluster\n",
      "Undefined            3885\n",
      "T_cells              2854\n",
      "NK_cells             1433\n",
      "Neutrophils           660\n",
      "Fibroblasts           634\n",
      "B_cells               511\n",
      "Endothelial_cells     350\n",
      "Macrophages           210\n",
      "Epithelial_cells       91\n",
      "Name: count, dtype: int64\n",
      "CK-M-20X.csv\n",
      "cluster\n",
      "Undefined            9210\n",
      "T_cells              6589\n",
      "Endothelial_cells    2369\n",
      "NK_cells             2295\n",
      "Fibroblasts          1775\n",
      "B_cells              1713\n",
      "Macrophages          1115\n",
      "Epithelial_cells      903\n",
      "Neutrophils           225\n",
      "Name: count, dtype: int64\n",
      "CK-M-63X.csv\n",
      "cluster\n",
      "T_cells              1624\n",
      "Neutrophils          1323\n",
      "Endothelial_cells    1302\n",
      "Undefined            1010\n",
      "NK_cells              559\n",
      "B_cells               532\n",
      "Fibroblasts           175\n",
      "Macrophages            63\n",
      "Epithelial_cells       16\n",
      "Name: count, dtype: int64\n"
     ]
    }
   ],
   "source": [
    "sample = 'CK'\n",
    "samples = os.listdir(f'./Others/CK')\n",
    "\n",
    "for file in samples:\n",
    "    df1 = pd.read_csv(f'./matrix_cluster/CK/{file}')\n",
    "    df2 = pd.read_csv(f'./Neutrophils/CK/{file}')\n",
    "    print(file)\n",
    "    # 使用pd.concat()函数将两个DataFrame合并\n",
    "    merged_df = pd.concat([df1, df2], ignore_index=True)\n",
    "    cluster_counts = merged_df['cluster'].value_counts()\n",
    "    print(cluster_counts)\n",
    "    # 保存合并后的DataFrame为CSV文件\n",
    "    merged_df.to_csv(f'./CK/{file}', index=False)\n"
   ]
  },
  {
   "cell_type": "code",
   "execution_count": 16,
   "metadata": {
    "metadata": {}
   },
   "outputs": [],
   "source": [
    "def check_max_significance(lst):\n",
    "    max_value = max(lst)\n",
    "    sorted_values = sorted(lst, reverse=True)\n",
    "    second_largest_value = sorted_values[1]\n",
    "\n",
    "    if max_value > 1.1 * second_largest_value and sum(counts) > 2:\n",
    "        return lst.index(max_value) + 1\n",
    "    else:\n",
    "        return 404\n",
    "\n",
    "def cal_score(gene):\n",
    "    score = rankings[gene].max() / rankings[gene][i]\n",
    "    return score\n",
    "\n",
    "def cal_mean_score(cluster):\n",
    "    cluster_score = []\n",
    "    for key in cluster:\n",
    "        cluster_score.append(gene_scores[key])\n",
    "    if len(cluster_score) > 1:\n",
    "        mean_score = sum(cluster_score) / len(cluster_score)\n",
    "        # score = min(cluster_score) * 0.4 + mean_score * 0.6\n",
    "        score = mean_score * 0.7 + min(cluster_score) * 0.3\n",
    "    else:\n",
    "        score = cluster_score[0]\n",
    "    return score"
   ]
  },
  {
   "cell_type": "code",
   "execution_count": 19,
   "metadata": {
    "metadata": {}
   },
   "outputs": [],
   "source": [
    "##pig\n",
    "B_cells = ['Cd79b','Pax5']\n",
    "T_cells = ['Il7r']\n",
    "NK_cells = ['Klrk1',\"Il12rb2\"]\n",
    "Neutrophils = ['Ifit2','Itga2']\n",
    "Macrophages = ['C1qa','C1qb','C1qc']\n",
    "Fibroblasts = ['Col1a2','Dcn','Pi16']\n",
    "Epithelial_cells = ['Samd12','Rtkn2']\n",
    "Endothelial_cells = ['Slpi']\n",
    "\n",
    "\n",
    "column_names = ['Cd79b','Pax5','Il7r','Klrk1','Ifit2','Itga2','C1qa','C1qb','C1qc','Col1a2','Dcn','Pi16','Samd12','Rtkn2','Slpi',\"Il12rb2\"]\n",
    "\n",
    "\n",
    "def get_result(result):\n",
    "    mapping = {1: 'B_cells', 2: 'T_cells', 3: 'NK_cells', 4: 'Neutrophils',\n",
    "               5:'Macrophages', 6: 'Fibroblasts ', 7: 'Epithelial_cells',\n",
    "               8: 'Endothelial_cells'}\n",
    "    return mapping.get(result, 'Undefined')\n",
    "\n",
    "cluster_lst = [B_cells, T_cells, NK_cells, Neutrophils, Macrophages, Fibroblasts, Epithelial_cells, Endothelial_cells]"
   ]
  },
  {
   "cell_type": "code",
   "execution_count": 20,
   "metadata": {
    "metadata": {}
   },
   "outputs": [
    {
     "name": "stdout",
     "output_type": "stream",
     "text": [
      "['PIG-I-20X.csv', 'PIG-I-63X.csv', 'PIG-M-20X.csv', 'PIG-M-63X.csv']\n"
     ]
    },
    {
     "name": "stderr",
     "output_type": "stream",
     "text": [
      "Processing files: 100%|██████████| 33277/33277 [00:27<00:00, 1224.30it/s]\n"
     ]
    },
    {
     "name": "stdout",
     "output_type": "stream",
     "text": [
      "cluster\n",
      "Undefined            14747\n",
      "Macrophages           6565\n",
      "B_cells               3847\n",
      "Fibroblasts           2420\n",
      "T_cells               2285\n",
      "Endothelial_cells     1631\n",
      "Neutrophils           1133\n",
      "Epithelial_cells       621\n",
      "NK_cells                28\n",
      "Name: count, dtype: int64\n"
     ]
    },
    {
     "name": "stderr",
     "output_type": "stream",
     "text": [
      "Processing files: 100%|██████████| 8943/8943 [00:04<00:00, 1919.89it/s]\n"
     ]
    },
    {
     "name": "stdout",
     "output_type": "stream",
     "text": [
      "cluster\n",
      "Undefined            2287\n",
      "Fibroblasts          1776\n",
      "B_cells              1409\n",
      "Macrophages          1231\n",
      "Neutrophils           861\n",
      "Epithelial_cells      508\n",
      "T_cells               476\n",
      "Endothelial_cells     353\n",
      "NK_cells               42\n",
      "Name: count, dtype: int64\n"
     ]
    },
    {
     "name": "stderr",
     "output_type": "stream",
     "text": [
      "Processing files: 100%|██████████| 14778/14778 [00:08<00:00, 1676.69it/s]\n"
     ]
    },
    {
     "name": "stdout",
     "output_type": "stream",
     "text": [
      "cluster\n",
      "Macrophages          2867\n",
      "B_cells              2767\n",
      "Endothelial_cells    2481\n",
      "T_cells              2047\n",
      "Undefined            1745\n",
      "Fibroblasts          1428\n",
      "Epithelial_cells      869\n",
      "Neutrophils           546\n",
      "NK_cells               28\n",
      "Name: count, dtype: int64\n"
     ]
    },
    {
     "name": "stderr",
     "output_type": "stream",
     "text": [
      "Processing files: 100%|██████████| 4121/4121 [00:01<00:00, 2156.82it/s]"
     ]
    },
    {
     "name": "stdout",
     "output_type": "stream",
     "text": [
      "cluster\n",
      "B_cells              765\n",
      "Macrophages          661\n",
      "Undefined            602\n",
      "Endothelial_cells    597\n",
      "Fibroblasts          555\n",
      "T_cells              360\n",
      "Neutrophils          280\n",
      "Epithelial_cells     271\n",
      "NK_cells              30\n",
      "Name: count, dtype: int64\n"
     ]
    },
    {
     "name": "stderr",
     "output_type": "stream",
     "text": [
      "\n"
     ]
    }
   ],
   "source": [
    "\n",
    "sample = 'PIG'\n",
    "samples = [file for file in os.listdir('./matrix') if file.startswith(sample)]\n",
    "print(samples)\n",
    "\n",
    "\n",
    "for file in samples:\n",
    "    filename = f'./matrix/{file}'\n",
    "    df = pd.read_csv(filename, index_col='cell')\n",
    "    rankings = df.rank(method='min', ascending=False)\n",
    "    with open('matrix-cluster-tmp.csv', mode='w', newline='') as output_file:\n",
    "        writer = csv.writer(output_file)\n",
    "        writer.writerow(['cluster'])  # 写出表头\n",
    "        for i in tqdm(range(len(rankings)), desc='Processing files'):\n",
    "            gene_scores = {}\n",
    "            for gene in column_names:\n",
    "                gene_score = cal_score(gene)\n",
    "                gene_scores[gene] = gene_score\n",
    "            cluster_scores = []\n",
    "            for cluster in cluster_lst:\n",
    "                cluster_score = cal_mean_score(cluster)\n",
    "                cluster_scores.append(cluster_score)\n",
    "\n",
    "            counts = df.iloc[i, :]\n",
    "            result = check_max_significance(cluster_scores)\n",
    "            output = get_result(result)\n",
    "            row = [output]\n",
    "            writer.writerow(row)\n",
    "\n",
    "    df1 = pd.read_csv(filename, index_col=None)\n",
    "    df2 = pd.read_csv('matrix-cluster-tmp.csv', index_col=None)\n",
    "    merged_df = pd.concat([df1, df2], axis=1)\n",
    "\n",
    "    #os.makedirs(f'./matrix_cluster/{sample}', exist_ok=True)\n",
    "    id = file.split('.')[0]\n",
    "    merged_df.to_csv(f'./matrix_cluster/{id}-cluster.csv', index=None)\n",
    "    cluster_counts = merged_df['cluster'].value_counts()\n",
    "    print(cluster_counts)"
   ]
  },
  {
   "cell_type": "code",
   "execution_count": 13,
   "metadata": {
    "metadata": {}
   },
   "outputs": [],
   "source": [
    "def check_max_significance(lst):\n",
    "    max_value = max(lst)\n",
    "    sorted_values = sorted(lst, reverse=True)\n",
    "    second_largest_value = sorted_values[1]\n",
    "\n",
    "    if max_value > 1.1 * second_largest_value and sum(counts) > 2:\n",
    "        return lst.index(max_value) + 1\n",
    "    else:\n",
    "        return 404\n",
    "\n",
    "def cal_score(gene):\n",
    "    score = rankings[gene].max() / rankings[gene][i]\n",
    "    return score\n",
    "\n",
    "def cal_mean_score(cluster):\n",
    "    cluster_score = []\n",
    "    for key in cluster:\n",
    "        cluster_score.append(gene_scores[key])\n",
    "    if len(cluster_score) > 1:\n",
    "        mean_score = sum(cluster_score) / len(cluster_score)\n",
    "        score = max(cluster_score) * 0.4 + mean_score * 0.6\n",
    "        # score = mean_score * 0.6 + min(cluster_score) * 0.4\n",
    "    else:\n",
    "        score = cluster_score[0]\n",
    "    return score"
   ]
  },
  {
   "cell_type": "code",
   "execution_count": 14,
   "metadata": {
    "metadata": {}
   },
   "outputs": [],
   "source": [
    "##MS\n",
    "# ,'Agbl1'\n",
    "\n",
    "B_cells = ['Cd79a','Bank1']\n",
    "T_cells = ['St8sia6']\n",
    "NK_cells = ['Ccl5','Gzma']\n",
    "Neutrophils = ['S100a8','S100a9','Retnlg']\n",
    "Macrophages = ['Kcnip4','Chil3']\n",
    "Fibroblasts = ['Col3a1','Col1a2']\n",
    "Epithelial_cells = ['Sftpb','Sftpa1']\n",
    "Endothelial_cells = ['Prickle2','Cldn5']\n",
    "\n",
    "\n",
    "column_names = ['Cd79a','Bank1','St8sia6','Ccl5','Gzma',\n",
    "                'S100a8','S100a9','Retnlg','Kcnip4','Chil3',\n",
    "                'Col3a1','Col1a2','Sftpb','Sftpa1',\n",
    "                'Prickle2','Cldn5']\n",
    "\n",
    "\n",
    "def get_result(result):\n",
    "    mapping = {1: 'B_cells', 2: 'T_cells', 3: 'NK_cells', 4: 'Neutrophils',\n",
    "               5:'Macrophages', 6: 'Fibroblasts ', 7: 'Epithelial_cells',\n",
    "               8: 'Endothelial_cells'}\n",
    "    return mapping.get(result, 'Undefined')\n",
    "\n",
    "cluster_lst = [B_cells, T_cells, NK_cells, Macrophages, Fibroblasts, Epithelial_cells, Endothelial_cells, Neutrophils]"
   ]
  },
  {
   "cell_type": "code",
   "execution_count": 15,
   "metadata": {
    "metadata": {}
   },
   "outputs": [
    {
     "name": "stdout",
     "output_type": "stream",
     "text": [
      "['MS-I-20X.csv', 'MS-I-63X.csv', 'MS-M-20X.csv', 'MS-M-63X.csv']\n"
     ]
    },
    {
     "name": "stderr",
     "output_type": "stream",
     "text": [
      "Processing files: 100%|██████████| 18542/18542 [00:12<00:00, 1544.74it/s]\n"
     ]
    },
    {
     "name": "stdout",
     "output_type": "stream",
     "text": [
      "cluster\n",
      "Fibroblasts          5665\n",
      "B_cells              3327\n",
      "Macrophages          2824\n",
      "Undefined            2672\n",
      "Endothelial_cells    1229\n",
      "NK_cells              856\n",
      "Epithelial_cells      837\n",
      "Neutrophils           807\n",
      "T_cells               325\n",
      "Name: count, dtype: int64\n"
     ]
    },
    {
     "name": "stderr",
     "output_type": "stream",
     "text": [
      "Processing files: 100%|██████████| 5361/5361 [00:02<00:00, 2054.29it/s]\n"
     ]
    },
    {
     "name": "stdout",
     "output_type": "stream",
     "text": [
      "cluster\n",
      "Fibroblasts          1517\n",
      "Undefined            1273\n",
      "Epithelial_cells      582\n",
      "Endothelial_cells     538\n",
      "B_cells               418\n",
      "Macrophages           408\n",
      "Neutrophils           249\n",
      "NK_cells              202\n",
      "T_cells               174\n",
      "Name: count, dtype: int64\n"
     ]
    },
    {
     "name": "stderr",
     "output_type": "stream",
     "text": [
      "Processing files: 100%|██████████| 22123/22123 [00:15<00:00, 1461.03it/s]\n"
     ]
    },
    {
     "name": "stdout",
     "output_type": "stream",
     "text": [
      "cluster\n",
      "B_cells              5043\n",
      "Fibroblasts          4471\n",
      "Undefined            3695\n",
      "Macrophages          2978\n",
      "Endothelial_cells    2088\n",
      "Epithelial_cells     1329\n",
      "NK_cells             1273\n",
      "T_cells               801\n",
      "Neutrophils           445\n",
      "Name: count, dtype: int64\n"
     ]
    },
    {
     "name": "stderr",
     "output_type": "stream",
     "text": [
      "Processing files: 100%|██████████| 3575/3575 [00:01<00:00, 2212.96it/s]"
     ]
    },
    {
     "name": "stdout",
     "output_type": "stream",
     "text": [
      "cluster\n",
      "Fibroblasts          758\n",
      "Undefined            585\n",
      "Endothelial_cells    539\n",
      "B_cells              495\n",
      "Epithelial_cells     433\n",
      "Macrophages          303\n",
      "NK_cells             199\n",
      "Neutrophils          147\n",
      "T_cells              116\n",
      "Name: count, dtype: int64\n"
     ]
    },
    {
     "name": "stderr",
     "output_type": "stream",
     "text": [
      "\n"
     ]
    }
   ],
   "source": [
    "sample = 'MS'\n",
    "samples = [file for file in os.listdir('./matrix') if file.startswith(sample)]\n",
    "print(samples)\n",
    "\n",
    "\n",
    "for file in samples:\n",
    "    filename = f'./matrix/{file}'\n",
    "    df = pd.read_csv(filename, index_col='cell')\n",
    "    rankings = df.rank(method='min', ascending=False)\n",
    "    with open('matrix-cluster-tmp.csv', mode='w', newline='') as output_file:\n",
    "        writer = csv.writer(output_file)\n",
    "        writer.writerow(['cluster'])  # 写出表头\n",
    "        for i in tqdm(range(len(rankings)), desc='Processing files'):\n",
    "            gene_scores = {}\n",
    "            for gene in column_names:\n",
    "                gene_score = cal_score(gene)\n",
    "                gene_scores[gene] = gene_score\n",
    "            cluster_scores = []\n",
    "            for cluster in cluster_lst:\n",
    "                cluster_score = cal_mean_score(cluster)\n",
    "                cluster_scores.append(cluster_score)\n",
    "\n",
    "            counts = df.iloc[i, :]\n",
    "            result = check_max_significance(cluster_scores)\n",
    "            output = get_result(result)\n",
    "            row = [output]\n",
    "            writer.writerow(row)\n",
    "\n",
    "    df1 = pd.read_csv(filename, index_col=None)\n",
    "    df2 = pd.read_csv('matrix-cluster-tmp.csv', index_col=None)\n",
    "    merged_df = pd.concat([df1, df2], axis=1)\n",
    "\n",
    "    #os.makedirs(f'./matrix_cluster/{sample}', exist_ok=True)\n",
    "    id = file.split('.')[0]\n",
    "    merged_df.to_csv(f'./matrix_cluster/{id}-cluster.csv', index=None)\n",
    "    cluster_counts = merged_df['cluster'].value_counts()\n",
    "    print(cluster_counts)"
   ]
  },
  {
   "cell_type": "code",
   "execution_count": 30,
   "metadata": {
    "metadata": {}
   },
   "outputs": [],
   "source": [
    "def check_max_significance(lst):\n",
    "    max_value = max(lst)\n",
    "    sorted_values = sorted(lst, reverse=True)\n",
    "    second_largest_value = sorted_values[1]\n",
    "\n",
    "    if max_value > 1.1 * second_largest_value and sum(counts) > 2:\n",
    "        return lst.index(max_value) + 1\n",
    "    else:\n",
    "        return 404\n",
    "\n",
    "def cal_score(gene):\n",
    "    score = rankings[gene].max() / rankings[gene][i]\n",
    "    return score\n",
    "\n",
    "def cal_mean_score(cluster):\n",
    "    cluster_score = []\n",
    "    for key in cluster:\n",
    "        cluster_score.append(gene_scores[key])\n",
    "    if len(cluster_score) > 1:\n",
    "        mean_score = sum(cluster_score) / len(cluster_score)\n",
    "        # score = min(cluster_score) * 0.4 + mean_score * 0.6\n",
    "        score = mean_score * 0.7 + min(cluster_score) * 0.3\n",
    "    else:\n",
    "        score = cluster_score[0]\n",
    "    return score"
   ]
  },
  {
   "cell_type": "code",
   "execution_count": 31,
   "metadata": {
    "metadata": {}
   },
   "outputs": [],
   "source": [
    "##PG\n",
    "#'Dscam','Hvcn1'\n",
    "B_cells = ['Dscam','Hvcn1']\n",
    "T_cells = ['Tcf7']\n",
    "NK_cells = ['Pde1c']\n",
    "Neutrophils = ['G0s2','Steap4']\n",
    "Macrophages = ['Efemp1']\n",
    "Fibroblasts = ['Thbs1','Dcn','Ism1']\n",
    "Epithelial_cells = ['Fabp3']\n",
    "Endothelial_cells = ['Prox1','Ebf3']\n",
    "\n",
    "column_names = ['Dscam','Hvcn1','Tcf7','Pde1c',\n",
    "                'G0s2','Steap4','Efemp1','Thbs1','Dcn','Ism1',\n",
    "                'Fabp3','Prox1','Ebf3']\n",
    "\n",
    "\n",
    "def get_result(result):\n",
    "    mapping = {1: 'B_cells', 2: 'T_cells', 3: 'NK_cells',\n",
    "               4:'Macrophages', 5: 'Fibroblasts ', 6: 'Epithelial_cells',\n",
    "               7: 'Endothelial_cells', 8: 'Neutrophils'}\n",
    "    return mapping.get(result, 'Undefined')\n",
    "\n",
    "cluster_lst = [B_cells, T_cells, NK_cells, Macrophages, Fibroblasts, Epithelial_cells, Endothelial_cells, Neutrophils]"
   ]
  },
  {
   "cell_type": "code",
   "execution_count": 32,
   "metadata": {
    "metadata": {}
   },
   "outputs": [
    {
     "name": "stdout",
     "output_type": "stream",
     "text": [
      "['PG-I-20X.csv', 'PG-I-63X.csv', 'PG-M-20X.csv', 'PG-M-63X.csv']\n"
     ]
    },
    {
     "name": "stderr",
     "output_type": "stream",
     "text": [
      "Processing files: 100%|██████████| 26602/26602 [00:17<00:00, 1545.72it/s]\n"
     ]
    },
    {
     "name": "stdout",
     "output_type": "stream",
     "text": [
      "cluster\n",
      "Undefined            9505\n",
      "B_cells              3366\n",
      "Neutrophils          2846\n",
      "Macrophages          2737\n",
      "Endothelial_cells    2350\n",
      "T_cells              2333\n",
      "Fibroblasts          1354\n",
      "Epithelial_cells     1064\n",
      "NK_cells             1047\n",
      "Name: count, dtype: int64\n"
     ]
    },
    {
     "name": "stderr",
     "output_type": "stream",
     "text": [
      "Processing files: 100%|██████████| 8860/8860 [00:06<00:00, 1285.86it/s]\n"
     ]
    },
    {
     "name": "stdout",
     "output_type": "stream",
     "text": [
      "cluster\n",
      "Undefined            5135\n",
      "Neutrophils          1158\n",
      "Macrophages           841\n",
      "NK_cells              520\n",
      "Fibroblasts           463\n",
      "B_cells               307\n",
      "T_cells               276\n",
      "Epithelial_cells      150\n",
      "Endothelial_cells      10\n",
      "Name: count, dtype: int64\n"
     ]
    },
    {
     "name": "stderr",
     "output_type": "stream",
     "text": [
      "Processing files: 100%|██████████| 29528/29528 [00:21<00:00, 1360.11it/s]\n"
     ]
    },
    {
     "name": "stdout",
     "output_type": "stream",
     "text": [
      "cluster\n",
      "Undefined            9877\n",
      "B_cells              4638\n",
      "Neutrophils          3798\n",
      "Endothelial_cells    2764\n",
      "Fibroblasts          2656\n",
      "T_cells              2515\n",
      "Macrophages          1810\n",
      "NK_cells              758\n",
      "Epithelial_cells      712\n",
      "Name: count, dtype: int64\n"
     ]
    },
    {
     "name": "stderr",
     "output_type": "stream",
     "text": [
      "Processing files: 100%|██████████| 7633/7633 [00:03<00:00, 2257.33it/s]"
     ]
    },
    {
     "name": "stdout",
     "output_type": "stream",
     "text": [
      "cluster\n",
      "Undefined            1893\n",
      "Macrophages          1778\n",
      "Neutrophils          1682\n",
      "T_cells               592\n",
      "B_cells               500\n",
      "NK_cells              486\n",
      "Fibroblasts           369\n",
      "Epithelial_cells      191\n",
      "Endothelial_cells     142\n",
      "Name: count, dtype: int64\n"
     ]
    },
    {
     "name": "stderr",
     "output_type": "stream",
     "text": [
      "\n"
     ]
    }
   ],
   "source": [
    "sample = 'PG'\n",
    "samples = [file for file in os.listdir('./matrix') if file.startswith(sample)]\n",
    "print(samples)\n",
    "\n",
    "\n",
    "for file in samples:\n",
    "    filename = f'./matrix/{file}'\n",
    "    df = pd.read_csv(filename, index_col='cell')\n",
    "    rankings = df.rank(method='min', ascending=False)\n",
    "    with open('matrix-cluster-tmp.csv', mode='w', newline='') as output_file:\n",
    "        writer = csv.writer(output_file)\n",
    "        writer.writerow(['cluster'])  # 写出表头\n",
    "        for i in tqdm(range(len(rankings)), desc='Processing files'):\n",
    "            gene_scores = {}\n",
    "            for gene in column_names:\n",
    "                gene_score = cal_score(gene)\n",
    "                gene_scores[gene] = gene_score\n",
    "            cluster_scores = []\n",
    "            for cluster in cluster_lst:\n",
    "                cluster_score = cal_mean_score(cluster)\n",
    "                cluster_scores.append(cluster_score)\n",
    "\n",
    "            counts = df.iloc[i, :]\n",
    "            result = check_max_significance(cluster_scores)\n",
    "            output = get_result(result)\n",
    "            row = [output]\n",
    "            writer.writerow(row)\n",
    "\n",
    "    df1 = pd.read_csv(filename, index_col=None)\n",
    "    df2 = pd.read_csv('matrix-cluster-tmp.csv', index_col=None)\n",
    "    merged_df = pd.concat([df1, df2], axis=1)\n",
    "\n",
    "    #os.makedirs(f'./matrix_cluster/{sample}', exist_ok=True)\n",
    "    id = file.split('.')[0]\n",
    "    merged_df.to_csv(f'./matrix_cluster/{id}-cluster.csv', index=None)\n",
    "    cluster_counts = merged_df['cluster'].value_counts()\n",
    "    print(cluster_counts)"
   ]
  },
  {
   "cell_type": "code",
   "execution_count": 90,
   "metadata": {},
   "outputs": [],
   "source": [
    "def check_max_significance(lst):\n",
    "    max_value = max(lst)\n",
    "    sorted_values = sorted(lst, reverse=True)\n",
    "    second_largest_value = sorted_values[1]\n",
    "\n",
    "    if max_value > 1.1 * second_largest_value and sum(counts) > 2:\n",
    "        return lst.index(max_value) + 1\n",
    "    else:\n",
    "        return 404\n",
    "\n",
    "def cal_score(gene):\n",
    "    score = rankings[gene].max() / rankings[gene][i]\n",
    "    return score\n",
    "\n",
    "def cal_mean_score(cluster):\n",
    "    cluster_score = []\n",
    "    for key in cluster:\n",
    "        cluster_score.append(gene_scores[key])\n",
    "    if len(cluster_score) > 1:\n",
    "        mean_score = sum(cluster_score) / len(cluster_score)\n",
    "        # score = min(cluster_score) * 0.4 + mean_score * 0.6\n",
    "        score = mean_score * 0.6 + min(cluster_score) * 0.4\n",
    "    else:\n",
    "        score = cluster_score[0]\n",
    "    return score"
   ]
  },
  {
   "cell_type": "code",
   "execution_count": 91,
   "metadata": {},
   "outputs": [],
   "source": [
    "##DOG\n",
    "#'Dscam','Hvcn1'\n",
    "B_cells = ['Cecr2']\n",
    "T_cells = ['Il7r']\n",
    "NK_cells = ['Il12rb2']\n",
    "Neutrophils = ['Slc7a11','Cd4']\n",
    "Macrophages = ['C1qb','Slc16a10']\n",
    "Fibroblasts = ['Dcn','Col1a2']\n",
    "Epithelial_cells = ['Sftpb']\n",
    "Endothelial_cells = ['Cldn5','Cavin2']\n",
    "\n",
    "column_names = ['Cecr2','Il7r','Il12rb2','Slc7a11','Cd4','C1qb','Slc16a10','Dcn','Col1a2','Sftpb','Cldn5','Cavin2']\n",
    "\n",
    "\n",
    "def get_result(result):\n",
    "    mapping = {1: 'B_cells', 2: 'T_cells', 3: 'NK_cells',\n",
    "               4:'Macrophages', 5: 'Fibroblasts ', 6: 'Epithelial_cells',\n",
    "               7: 'Endothelial_cells', 8: 'Neutrophils'}\n",
    "    return mapping.get(result, 'Undefined')\n",
    "\n",
    "cluster_lst = [B_cells, T_cells, NK_cells, Macrophages, Fibroblasts, Epithelial_cells, Endothelial_cells, Neutrophils]"
   ]
  },
  {
   "cell_type": "code",
   "execution_count": 93,
   "metadata": {},
   "outputs": [
    {
     "name": "stdout",
     "output_type": "stream",
     "text": [
      "['DOG-I-20X.csv', 'DOG-I-63X.csv', 'DOG-M-20X.csv', 'DOG-M-63X.csv']\n"
     ]
    },
    {
     "name": "stderr",
     "output_type": "stream",
     "text": [
      "Processing files: 100%|██████████| 33692/33692 [00:21<00:00, 1551.87it/s]\n"
     ]
    },
    {
     "name": "stdout",
     "output_type": "stream",
     "text": [
      "cluster\n",
      "Undefined            7021\n",
      "Epithelial_cells     6248\n",
      "B_cells              4819\n",
      "Macrophages          4532\n",
      "Endothelial_cells    3978\n",
      "Fibroblasts          3890\n",
      "Neutrophils          1953\n",
      "NK_cells              748\n",
      "T_cells               503\n",
      "Name: count, dtype: int64\n"
     ]
    },
    {
     "name": "stderr",
     "output_type": "stream",
     "text": [
      "Processing files: 100%|██████████| 6578/6578 [00:02<00:00, 2530.74it/s]\n"
     ]
    },
    {
     "name": "stdout",
     "output_type": "stream",
     "text": [
      "cluster\n",
      "Fibroblasts          1601\n",
      "Undefined            1508\n",
      "B_cells               822\n",
      "Macrophages           779\n",
      "Endothelial_cells     720\n",
      "Epithelial_cells      637\n",
      "Neutrophils           338\n",
      "NK_cells              108\n",
      "T_cells                65\n",
      "Name: count, dtype: int64\n"
     ]
    },
    {
     "name": "stderr",
     "output_type": "stream",
     "text": [
      "Processing files: 100%|██████████| 25543/25543 [00:14<00:00, 1767.19it/s]\n"
     ]
    },
    {
     "name": "stdout",
     "output_type": "stream",
     "text": [
      "cluster\n",
      "Fibroblasts          5890\n",
      "Epithelial_cells     5374\n",
      "Undefined            3765\n",
      "Endothelial_cells    3598\n",
      "B_cells              2469\n",
      "Macrophages          1817\n",
      "Neutrophils          1357\n",
      "NK_cells              973\n",
      "T_cells               300\n",
      "Name: count, dtype: int64\n"
     ]
    },
    {
     "name": "stderr",
     "output_type": "stream",
     "text": [
      "Processing files: 100%|██████████| 5154/5154 [00:02<00:00, 2553.34it/s]"
     ]
    },
    {
     "name": "stdout",
     "output_type": "stream",
     "text": [
      "cluster\n",
      "Fibroblasts          1351\n",
      "Epithelial_cells     1247\n",
      "Undefined             929\n",
      "B_cells               644\n",
      "Endothelial_cells     402\n",
      "Macrophages           267\n",
      "Neutrophils           152\n",
      "NK_cells              103\n",
      "T_cells                59\n",
      "Name: count, dtype: int64\n"
     ]
    },
    {
     "name": "stderr",
     "output_type": "stream",
     "text": [
      "\n"
     ]
    }
   ],
   "source": [
    "sample = 'DOG'\n",
    "samples = [file for file in os.listdir('./matrix') if file.startswith(sample)]\n",
    "print(samples)\n",
    "\n",
    "\n",
    "for file in samples:\n",
    "    filename = f'./matrix/{file}'\n",
    "    df = pd.read_csv(filename, index_col='cell')\n",
    "    rankings = df.rank(method='min', ascending=False)\n",
    "    with open('matrix-cluster-tmp.csv', mode='w', newline='') as output_file:\n",
    "        writer = csv.writer(output_file)\n",
    "        writer.writerow(['cluster'])  # 写出表头\n",
    "        for i in tqdm(range(len(rankings)), desc='Processing files'):\n",
    "            gene_scores = {}\n",
    "            for gene in column_names:\n",
    "                gene_score = cal_score(gene)\n",
    "                gene_scores[gene] = gene_score\n",
    "            cluster_scores = []\n",
    "            for cluster in cluster_lst:\n",
    "                cluster_score = cal_mean_score(cluster)\n",
    "                cluster_scores.append(cluster_score)\n",
    "\n",
    "            counts = df.iloc[i, :]\n",
    "            result = check_max_significance(cluster_scores)\n",
    "            output = get_result(result)\n",
    "            row = [output]\n",
    "            writer.writerow(row)\n",
    "\n",
    "    df1 = pd.read_csv(filename, index_col=None)\n",
    "    df2 = pd.read_csv('matrix-cluster-tmp.csv', index_col=None)\n",
    "    merged_df = pd.concat([df1, df2], axis=1)\n",
    "\n",
    "    #os.makedirs(f'./matrix_cluster/{sample}', exist_ok=True)\n",
    "    id = file.split('.')[0]\n",
    "    merged_df.to_csv(f'./matrix_cluster/{id}-cluster.csv', index=None)\n",
    "    cluster_counts = merged_df['cluster'].value_counts()\n",
    "    print(cluster_counts)"
   ]
  },
  {
   "cell_type": "code",
   "execution_count": null,
   "metadata": {},
   "outputs": [],
   "source": []
  }
 ],
 "metadata": {
  "kernelspec": {
   "display_name": "Python 3",
   "language": "python",
   "name": "python3"
  },
  "language_info": {
   "codemirror_mode": {
    "name": "ipython",
    "version": 3
   },
   "file_extension": ".py",
   "mimetype": "text/x-python",
   "name": "python",
   "nbconvert_exporter": "python",
   "pygments_lexer": "ipython3",
   "version": "3.8.17"
  }
 },
 "nbformat": 4,
 "nbformat_minor": 2
}
